{
 "cells": [
  {
   "cell_type": "markdown",
   "metadata": {},
   "source": [
    "# Louisville Free Public Library\n",
    "\n",
    "Analysis of Louisville Free Public Library collection inventory.\n",
    "\n",
    "Data Source: [Louisville Metro Open Data](https://data.louisvilleky.gov/datasets/LOJIC::louisville-metro-ky-library-collection-inventory-/about)"
   ]
  },
  {
   "cell_type": "markdown",
   "metadata": {},
   "source": [
    "# LFPL's collection inventory. Updated on a monthly basis.\n",
    "\n",
    "## Definitions:\n",
    "- **BibNum** - The unique identifier of a bibliographic record within our materials database. Materials with the same bibliographic # will generally have the same cataloging metadata, differing only in the barcode number, assigned location and anything else specific to the individual copy.\n",
    "\n",
    "- **Title** - The name of the material.\n",
    "\n",
    "- **Author** - The writer or creator of the material.\n",
    "\n",
    "- **ISBN** - The International Standard Book Number is a numeric commercial book identifier that is intended to be unique. Publishers purchase ISBNs from an affiliate of the International ISBN Agency. An ISBN is assigned to each separate edition and variation of a publication. \n",
    "\n",
    "- **Publication Year**- The year that the material was originally published.\n",
    "\n",
    "- **Item Type** - Describes the type of material of each item, including Books, Audiobooks, Serials, DVDs, Microforms, Three Dimensional Objects, Kits, and Printed Cartographic Materials. \n",
    "\n",
    "- **Item Collection** - Refers to the collection the material belongs to based on common themes, including but not limited to Adult Fiction, Adult Reference, Mystery, Children’s Fiction, etc.  \n",
    "\n",
    "- **Item Location** - The library location where the material was assigned at the time the report was run.\n",
    "\n",
    "- **Item Price** – The price, in USD, that LFPL purchased the material for. \n",
    "\n",
    "***\n",
    "***"
   ]
  },
  {
   "cell_type": "markdown",
   "metadata": {},
   "source": [
    "### 1. Following the Demo & Exploring the Data\n",
    "***"
   ]
  },
  {
   "cell_type": "code",
   "execution_count": 5,
   "metadata": {},
   "outputs": [],
   "source": [
    "#load in the data\n",
    "import pandas as pd\n",
    "books_df = pd.read_csv('books.csv.gz')"
   ]
  },
  {
   "cell_type": "code",
   "execution_count": 6,
   "metadata": {},
   "outputs": [
    {
     "data": {
      "text/plain": [
       "Index(['BibNum', 'Title', 'Author', 'ISBN', 'PublicationYear', 'ItemType',\n",
       "       'ItemCollection', 'ItemLocation', 'ItemPrice', 'ReportDate'],\n",
       "      dtype='object')"
      ]
     },
     "execution_count": 6,
     "metadata": {},
     "output_type": "execute_result"
    }
   ],
   "source": [
    "#exploring the columns\n",
    "books_df.columns"
   ]
  },
  {
   "cell_type": "code",
   "execution_count": 7,
   "metadata": {},
   "outputs": [
    {
     "data": {
      "text/plain": [
       "(1190176, 10)"
      ]
     },
     "execution_count": 7,
     "metadata": {},
     "output_type": "execute_result"
    }
   ],
   "source": [
    "#rows and columns count\n",
    "books_df.shape"
   ]
  },
  {
   "cell_type": "code",
   "execution_count": 8,
   "metadata": {},
   "outputs": [
    {
     "name": "stdout",
     "output_type": "stream",
     "text": [
      "<class 'pandas.core.frame.DataFrame'>\n",
      "RangeIndex: 1190176 entries, 0 to 1190175\n",
      "Data columns (total 10 columns):\n",
      " #   Column           Non-Null Count    Dtype  \n",
      "---  ------           --------------    -----  \n",
      " 0   BibNum           1190176 non-null  int64  \n",
      " 1   Title            1190175 non-null  object \n",
      " 2   Author           1124225 non-null  object \n",
      " 3   ISBN             1153891 non-null  float64\n",
      " 4   PublicationYear  1190176 non-null  int64  \n",
      " 5   ItemType         1190176 non-null  object \n",
      " 6   ItemCollection   1190036 non-null  object \n",
      " 7   ItemLocation     1190176 non-null  object \n",
      " 8   ItemPrice        1190176 non-null  float64\n",
      " 9   ReportDate       1190176 non-null  object \n",
      "dtypes: float64(2), int64(2), object(6)\n",
      "memory usage: 90.8+ MB\n"
     ]
    }
   ],
   "source": [
    "#getting the data types from columns\n",
    "books_df.info()"
   ]
  },
  {
   "cell_type": "code",
   "execution_count": 10,
   "metadata": {},
   "outputs": [
    {
     "data": {
      "text/plain": [
       "Author             65951\n",
       "ISBN               36285\n",
       "ItemCollection       140\n",
       "Title                  1\n",
       "BibNum                 0\n",
       "PublicationYear        0\n",
       "ItemType               0\n",
       "ItemLocation           0\n",
       "ItemPrice              0\n",
       "ReportDate             0\n",
       "dtype: int64"
      ]
     },
     "execution_count": 10,
     "metadata": {},
     "output_type": "execute_result"
    }
   ],
   "source": [
    "#getting missing record count\n",
    "books_df.isnull().sum().sort_values(ascending=False)"
   ]
  },
  {
   "cell_type": "code",
   "execution_count": 11,
   "metadata": {},
   "outputs": [
    {
     "data": {
      "text/html": [
       "<div>\n",
       "<style scoped>\n",
       "    .dataframe tbody tr th:only-of-type {\n",
       "        vertical-align: middle;\n",
       "    }\n",
       "\n",
       "    .dataframe tbody tr th {\n",
       "        vertical-align: top;\n",
       "    }\n",
       "\n",
       "    .dataframe thead th {\n",
       "        text-align: right;\n",
       "    }\n",
       "</style>\n",
       "<table border=\"1\" class=\"dataframe\">\n",
       "  <thead>\n",
       "    <tr style=\"text-align: right;\">\n",
       "      <th></th>\n",
       "      <th>BibNum</th>\n",
       "      <th>Title</th>\n",
       "      <th>Author</th>\n",
       "      <th>ISBN</th>\n",
       "      <th>PublicationYear</th>\n",
       "      <th>ItemType</th>\n",
       "      <th>ItemCollection</th>\n",
       "      <th>ItemLocation</th>\n",
       "      <th>ItemPrice</th>\n",
       "      <th>ReportDate</th>\n",
       "    </tr>\n",
       "  </thead>\n",
       "  <tbody>\n",
       "    <tr>\n",
       "      <th>0</th>\n",
       "      <td>707409</td>\n",
       "      <td>Jeff Immelt and the new GE way : innovation, t...</td>\n",
       "      <td>Magee, David, 1965-</td>\n",
       "      <td>9.780072e+12</td>\n",
       "      <td>2009</td>\n",
       "      <td>Book</td>\n",
       "      <td>Adult Non-Fiction</td>\n",
       "      <td>Main</td>\n",
       "      <td>25.95</td>\n",
       "      <td>02/01/2023 00:00:00</td>\n",
       "    </tr>\n",
       "    <tr>\n",
       "      <th>1</th>\n",
       "      <td>707411</td>\n",
       "      <td>Robin rescues dinner : 52 weeks of quick-fix m...</td>\n",
       "      <td>Miller, Robin, 1964-</td>\n",
       "      <td>9.780307e+12</td>\n",
       "      <td>2009</td>\n",
       "      <td>Book</td>\n",
       "      <td>Adult Non-Fiction</td>\n",
       "      <td>Southwest</td>\n",
       "      <td>19.99</td>\n",
       "      <td>02/01/2023 00:00:00</td>\n",
       "    </tr>\n",
       "    <tr>\n",
       "      <th>2</th>\n",
       "      <td>707411</td>\n",
       "      <td>Robin rescues dinner : 52 weeks of quick-fix m...</td>\n",
       "      <td>Miller, Robin, 1964-</td>\n",
       "      <td>9.780307e+12</td>\n",
       "      <td>2009</td>\n",
       "      <td>Book</td>\n",
       "      <td>Adult Non-Fiction</td>\n",
       "      <td>Southwest</td>\n",
       "      <td>19.99</td>\n",
       "      <td>02/01/2023 00:00:00</td>\n",
       "    </tr>\n",
       "    <tr>\n",
       "      <th>3</th>\n",
       "      <td>707411</td>\n",
       "      <td>Robin rescues dinner : 52 weeks of quick-fix m...</td>\n",
       "      <td>Miller, Robin, 1964-</td>\n",
       "      <td>9.780307e+12</td>\n",
       "      <td>2009</td>\n",
       "      <td>Book</td>\n",
       "      <td>Adult Non-Fiction</td>\n",
       "      <td>Remote Shelving - Main</td>\n",
       "      <td>19.99</td>\n",
       "      <td>02/01/2023 00:00:00</td>\n",
       "    </tr>\n",
       "    <tr>\n",
       "      <th>4</th>\n",
       "      <td>707411</td>\n",
       "      <td>Robin rescues dinner : 52 weeks of quick-fix m...</td>\n",
       "      <td>Miller, Robin, 1964-</td>\n",
       "      <td>9.780307e+12</td>\n",
       "      <td>2009</td>\n",
       "      <td>Book</td>\n",
       "      <td>Adult Non-Fiction</td>\n",
       "      <td>Remote Shelving - Main</td>\n",
       "      <td>19.99</td>\n",
       "      <td>02/01/2023 00:00:00</td>\n",
       "    </tr>\n",
       "  </tbody>\n",
       "</table>\n",
       "</div>"
      ],
      "text/plain": [
       "   BibNum                                              Title  \\\n",
       "0  707409  Jeff Immelt and the new GE way : innovation, t...   \n",
       "1  707411  Robin rescues dinner : 52 weeks of quick-fix m...   \n",
       "2  707411  Robin rescues dinner : 52 weeks of quick-fix m...   \n",
       "3  707411  Robin rescues dinner : 52 weeks of quick-fix m...   \n",
       "4  707411  Robin rescues dinner : 52 weeks of quick-fix m...   \n",
       "\n",
       "                 Author          ISBN  PublicationYear ItemType  \\\n",
       "0   Magee, David, 1965-  9.780072e+12             2009     Book   \n",
       "1  Miller, Robin, 1964-  9.780307e+12             2009     Book   \n",
       "2  Miller, Robin, 1964-  9.780307e+12             2009     Book   \n",
       "3  Miller, Robin, 1964-  9.780307e+12             2009     Book   \n",
       "4  Miller, Robin, 1964-  9.780307e+12             2009     Book   \n",
       "\n",
       "      ItemCollection            ItemLocation  ItemPrice           ReportDate  \n",
       "0  Adult Non-Fiction                    Main      25.95  02/01/2023 00:00:00  \n",
       "1  Adult Non-Fiction               Southwest      19.99  02/01/2023 00:00:00  \n",
       "2  Adult Non-Fiction               Southwest      19.99  02/01/2023 00:00:00  \n",
       "3  Adult Non-Fiction  Remote Shelving - Main      19.99  02/01/2023 00:00:00  \n",
       "4  Adult Non-Fiction  Remote Shelving - Main      19.99  02/01/2023 00:00:00  "
      ]
     },
     "execution_count": 11,
     "metadata": {},
     "output_type": "execute_result"
    }
   ],
   "source": [
    "#previewing the data\n",
    "books_df.head()\n"
   ]
  },
  {
   "cell_type": "code",
   "execution_count": 16,
   "metadata": {},
   "outputs": [
    {
     "data": {
      "text/plain": [
       "Book    1190176\n",
       "Name: ItemType, dtype: int64"
      ]
     },
     "execution_count": 16,
     "metadata": {},
     "output_type": "execute_result"
    }
   ],
   "source": [
    "#exploring the Item Type column\n",
    "books_df['ItemType'].unique()\n",
    "books_df['ItemType'].value_counts()"
   ]
  },
  {
   "cell_type": "code",
   "execution_count": 18,
   "metadata": {},
   "outputs": [
    {
     "data": {
      "text/plain": [
       "Adult Non-Fiction                   371433\n",
       "Adult Fiction                       177604\n",
       "Children's Non-Fiction               86356\n",
       "Mystery                              60314\n",
       "Children's Picture Book              59348\n",
       "Preschool  Picture Book              51276\n",
       "Children's Fiction                   48446\n",
       "Adult Paperback                      45302\n",
       "Children's Paperback                 45076\n",
       "Children's Easy Reader               24511\n",
       "Teen Non-Fiction                     24376\n",
       "Older Teen Fiction                   23787\n",
       "Children's Board Book                20057\n",
       "Younger Teen  Fiction                17532\n",
       "Kentucky History                     16962\n",
       "Science Fiction                      16048\n",
       "Children's Easy Reader Paperback     15959\n",
       "Holiday                              15583\n",
       "International Collection             15581\n",
       "Adult Reference                      11197\n",
       "Children's Picture Paperback          9731\n",
       "Urban Fiction                         7601\n",
       "Caldecott/Newbery                     6777\n",
       "Storytime Collection                  4070\n",
       "Government Documents                  3355\n",
       "Oversize                              2252\n",
       "Western                               2140\n",
       "Bestsellers                           2122\n",
       "ELL Collection                        1832\n",
       "Natural Resources                     1505\n",
       "Adult Paperbacks Tall                  757\n",
       "Children's Reference                   541\n",
       "Interlibrary Loan                      168\n",
       "Laptop                                 101\n",
       "Big Book                                94\n",
       "Children's Non-Fiction Paperback        67\n",
       "Large Print                             59\n",
       "Readalongs                              38\n",
       "College Shop                            18\n",
       "Listening Device                        16\n",
       "Telereference                           10\n",
       "Teen Reference                           8\n",
       "Younger Teen  Audiobook                  6\n",
       "Magazines and Newspaper                  5\n",
       "Adult DVD                                4\n",
       "Electronic                               3\n",
       "Music                                    2\n",
       "Younger Teen  Paperback                  2\n",
       "Adult Audiobook                          2\n",
       "Children's Music                         1\n",
       "Book Discussion Kit                      1\n",
       "Name: ItemCollection, dtype: int64"
      ]
     },
     "execution_count": 18,
     "metadata": {},
     "output_type": "execute_result"
    }
   ],
   "source": [
    "#exploring the Item Collection column\n",
    "books_df['ItemCollection'].unique()\n",
    "books_df['ItemCollection'].value_counts()"
   ]
  },
  {
   "cell_type": "code",
   "execution_count": 25,
   "metadata": {},
   "outputs": [
    {
     "data": {
      "text/plain": [
       "Remote Shelving - Main       139987\n",
       "Northeast                    124473\n",
       "Southwest                    122113\n",
       "Main                         121439\n",
       "South Central                115837\n",
       "Bon Air                       74730\n",
       "St Matthews                   69531\n",
       "Jeffersontown                 56706\n",
       "Iroquois                      52382\n",
       "Highlands - Shelby Park       45539\n",
       "Crescent Hill                 42837\n",
       "Childrens Main Library        38994\n",
       "Middletown                    33120\n",
       "Shively                       23623\n",
       "Newburg                       23586\n",
       "Fairdale                      23149\n",
       "Shawnee                       22906\n",
       "Western                       21648\n",
       "Portland                      13334\n",
       "Childrens Bookmobile           9129\n",
       "Remote Shelving - Shawnee      9083\n",
       "Main Teen                      6024\n",
       "Content Management                4\n",
       "Adult Bookmobile                  2\n",
       "Name: ItemLocation, dtype: int64"
      ]
     },
     "execution_count": 25,
     "metadata": {},
     "output_type": "execute_result"
    }
   ],
   "source": [
    "#eploring the ItemLocation column\n",
    "books_df['ItemLocation'].unique()\n",
    "books_df['ItemLocation'].value_counts()"
   ]
  },
  {
   "cell_type": "code",
   "execution_count": 23,
   "metadata": {},
   "outputs": [
    {
     "data": {
      "text/plain": [
       "Patterson, James, 1947-                 5856\n",
       "Osborne, Mary Pope.                     2063\n",
       "Steel, Danielle                         1824\n",
       "Pilkey, Dav, 1966-                      1812\n",
       "Seuss, Dr.                              1812\n",
       "                                        ... \n",
       "Sánchez Ferlosio, Rafael, 1927-2019       1\n",
       "Pippen, Kitty, 1919-2018                   1\n",
       "Adkins, Frank (Francis A.)                 1\n",
       "Ray, James A.                              1\n",
       "Kniffke, Sophie.                           1\n",
       "Name: Author, Length: 187472, dtype: int64"
      ]
     },
     "execution_count": 23,
     "metadata": {},
     "output_type": "execute_result"
    }
   ],
   "source": [
    "#eploring the Author column\n",
    "books_df['Author'].unique()\n",
    "books_df['Author'].value_counts()"
   ]
  },
  {
   "cell_type": "code",
   "execution_count": 29,
   "metadata": {},
   "outputs": [
    {
     "name": "stdout",
     "output_type": "stream",
     "text": [
      "count    1,190,176.00\n",
      "mean            18.45\n",
      "std             16.00\n",
      "min              0.00\n",
      "25%             10.95\n",
      "50%             15.99\n",
      "75%             24.95\n",
      "max          1,077.00\n",
      "Name: ItemPrice, dtype: object\n"
     ]
    }
   ],
   "source": [
    "#eploring item price values\n",
    "\n",
    "result = books_df['ItemPrice'].describe()\n",
    "result = result.apply(lambda x: format(x, ',.2f'))\n",
    "print(result)"
   ]
  },
  {
   "cell_type": "code",
   "execution_count": 34,
   "metadata": {},
   "outputs": [
    {
     "name": "stdout",
     "output_type": "stream",
     "text": [
      "count    1190176\n",
      "mean        2004\n",
      "std          101\n",
      "min            0\n",
      "25%         2005\n",
      "50%         2014\n",
      "75%         2018\n",
      "max         9999\n",
      "Name: PublicationYear, dtype: object\n"
     ]
    }
   ],
   "source": [
    "#eploring publication year values\n",
    "\n",
    "result = books_df['PublicationYear'].describe()\n",
    "result = result.apply(lambda x: format(int(x), 'd'))\n",
    "print(result)"
   ]
  },
  {
   "cell_type": "markdown",
   "metadata": {},
   "source": [
    "### 2. A Little Exploration Tangent with Publication Year\n",
    "***"
   ]
  },
  {
   "cell_type": "markdown",
   "metadata": {},
   "source": [
    "**Publication Year** in this instance is categorical. We are not using it to measure time between two years, instead it is a classification desiginated to the book. It would be interesting to see the count of years within the records instead, or a range of years that the books may fall into. Let's do that instead. "
   ]
  },
  {
   "cell_type": "code",
   "execution_count": 41,
   "metadata": {},
   "outputs": [
    {
     "data": {
      "text/plain": [
       "2018    77168\n",
       "2017    72501\n",
       "2015    70429\n",
       "2016    70174\n",
       "2020    68074\n",
       "        ...  \n",
       "1818        1\n",
       "1794        1\n",
       "1814        1\n",
       "1807        1\n",
       "1829        1\n",
       "Name: PublicationYear, Length: 213, dtype: int64"
      ]
     },
     "execution_count": 41,
     "metadata": {},
     "output_type": "execute_result"
    }
   ],
   "source": [
    "#exploring Publication Year\n",
    "books_df['PublicationYear'].unique()\n",
    "books_df['PublicationYear'].value_counts()"
   ]
  },
  {
   "cell_type": "markdown",
   "metadata": {},
   "source": [
    "This is too much data to digest in a meaningful way so I wonder if I can break it into groupings"
   ]
  },
  {
   "cell_type": "code",
   "execution_count": 45,
   "metadata": {},
   "outputs": [
    {
     "name": "stdout",
     "output_type": "stream",
     "text": [
      "Present day    1013675\n",
      "1900-1999       172198\n",
      "1800-1899         1323\n",
      "1700-1799            3\n",
      "Name: PublicationCategory, dtype: int64\n"
     ]
    }
   ],
   "source": [
    "bins = [1700, 1800, 1900, 2000, 2100]\n",
    "labels = ['1700-1799', '1800-1899', '1900-1999', 'Present day']\n",
    "books_df['PublicationCategory'] = pd.cut(books_df['PublicationYear'], bins=bins, labels=labels, right=False)\n",
    "result = books_df['PublicationCategory'].value_counts()\n",
    "print(result)"
   ]
  },
  {
   "cell_type": "markdown",
   "metadata": {},
   "source": [
    "I'm still new to this, so I want to double check that this makes sense with the data set we have so I'll look at the lowest publication dates we have that aren't 0 so make sure"
   ]
  },
  {
   "cell_type": "code",
   "execution_count": 51,
   "metadata": {},
   "outputs": [
    {
     "name": "stdout",
     "output_type": "stream",
     "text": [
      "[1790 1794 1798 1800 1800]\n"
     ]
    }
   ],
   "source": [
    "#seeing what values are listed as the lowest 5 that are not 0\n",
    "results = books_df[books_df['PublicationYear'] !=0]['PublicationYear'].sort_values().head(5)\n",
    "print(results.values)\n"
   ]
  },
  {
   "cell_type": "markdown",
   "metadata": {},
   "source": [
    "Doing the above made me realize I likely have 0 and null values present in my bins. I'm not sure how to fix this but I'd like to make note of how many those are"
   ]
  },
  {
   "cell_type": "code",
   "execution_count": 58,
   "metadata": {},
   "outputs": [
    {
     "name": "stdout",
     "output_type": "stream",
     "text": [
      "Record count where publication year is 0 -  2971\n",
      "Record count where publication year is missing -  0\n"
     ]
    }
   ],
   "source": [
    "#looking into getting a count of records where PublicationYear is null or 0\n",
    "resultszero = books_df[books_df['PublicationYear'] ==0]\n",
    "countzero = resultszero.shape[0]\n",
    "\n",
    "resultsnan = books_df[books_df['PublicationYear'].isna()]\n",
    "countnan = resultsnan.shape[0]\n",
    "\n",
    "print(\"Record count where publication year is 0 - \", countzero)\n",
    "print(\"Record count where publication year is missing - \", countnan)"
   ]
  },
  {
   "cell_type": "markdown",
   "metadata": {},
   "source": [
    "This tells me there are **2971** records that have 0 listed as a Publication Year. Getting a 0 makes sense for missing values, since our earlier query let us know there are no null values for Publication Year. I don't quite know how to handle that with bins, so I'm leaving it for now"
   ]
  },
  {
   "cell_type": "markdown",
   "metadata": {},
   "source": [
    "### 3. Returning to the Homework to Explore YA Genre\n",
    "***"
   ]
  },
  {
   "cell_type": "markdown",
   "metadata": {},
   "source": [
    "#### How much was spent on the collection for YA? How does that compare to other collections?"
   ]
  },
  {
   "cell_type": "code",
   "execution_count": 93,
   "metadata": {},
   "outputs": [
    {
     "name": "stdout",
     "output_type": "stream",
     "text": [
      "                                     ItemPrice\n",
      "ItemCollection                                \n",
      "Adult Audiobook                          39.39\n",
      "Adult DVD                               149.95\n",
      "Adult Fiction                     3,457,884.27\n",
      "Adult Non-Fiction                 8,595,104.56\n",
      "Adult Paperback                     277,216.10\n",
      "Adult Paperbacks Tall                 6,239.87\n",
      "Adult Reference                     615,411.54\n",
      "Bestsellers                          39,735.84\n",
      "Big Book                              1,957.34\n",
      "Book Discussion Kit                      93.30\n",
      "Caldecott/Newbery                    96,166.58\n",
      "Children's Board Book               144,366.00\n",
      "Children's Easy Reader              301,445.43\n",
      "Children's Easy Reader Paperback     59,366.71\n",
      "Children's Fiction                  636,529.77\n",
      "Children's Music                          7.51\n",
      "Children's Non-Fiction            1,579,063.64\n",
      "Children's Non-Fiction Paperback        457.68\n",
      "Children's Paperback                227,002.62\n",
      "Children's Picture Book             887,452.17\n",
      "Children's Picture Paperback         52,798.33\n",
      "Children's Reference                 18,064.56\n",
      "College Shop                            377.26\n",
      "ELL Collection                       34,970.79\n",
      "Electronic                                0.00\n",
      "Government Documents                199,760.29\n",
      "Holiday                             190,639.28\n",
      "Interlibrary Loan                        71.99\n",
      "International Collection            219,047.76\n",
      "Kentucky History                    656,491.79\n",
      "Laptop                               92,096.69\n",
      "Large Print                           1,574.99\n",
      "Listening Device                      2,496.00\n",
      "Magazines and Newspaper                  65.00\n",
      "Music                                    30.46\n",
      "Mystery                           1,225,052.15\n",
      "Natural Resources                    25,777.15\n",
      "Older Teen Fiction                  323,672.55\n",
      "Oversize                             91,168.27\n",
      "Preschool  Picture Book             741,757.60\n",
      "Readalongs                              271.80\n",
      "Science Fiction                     313,141.87\n",
      "Storytime Collection                 56,666.50\n",
      "Teen Non-Fiction                    400,962.13\n",
      "Teen Reference                          204.22\n",
      "Telereference                           476.78\n",
      "Urban Fiction                       109,122.87\n",
      "Western                              44,795.51\n",
      "Younger Teen  Audiobook                 105.35\n",
      "Younger Teen  Fiction               232,543.60\n",
      "Younger Teen  Paperback                  13.74\n"
     ]
    }
   ],
   "source": [
    "#exploring the YA genre\n",
    "\n",
    "books2_df = books_df[[\"ItemCollection\", \"ItemPrice\"]]\n",
    "grouped = books2_df.groupby(\"ItemCollection\").sum()\n",
    "grouped['ItemPrice'] = grouped['ItemPrice'].apply(lambda x: format((x), ',.2f'))\n",
    "grouped.sort_values(by='ItemPrice',ascending=False, inplace=False)                                             \n",
    "print(grouped)\n"
   ]
  },
  {
   "cell_type": "markdown",
   "metadata": {},
   "source": [
    "It looks like compared to children and adult books, there was significantly less money spent on Young Adult novels"
   ]
  }
 ],
 "metadata": {
  "kernelspec": {
   "display_name": "Python 3 (ipykernel)",
   "language": "python",
   "name": "python3"
  },
  "language_info": {
   "codemirror_mode": {
    "name": "ipython",
    "version": 3
   },
   "file_extension": ".py",
   "mimetype": "text/x-python",
   "name": "python",
   "nbconvert_exporter": "python",
   "pygments_lexer": "ipython3",
   "version": "3.11.1"
  },
  "vscode": {
   "interpreter": {
    "hash": "c44c8a1366e1d996b394d70aa65c8f31f3241397ab2c3c9fdb67a021ed1f8b86"
   }
  }
 },
 "nbformat": 4,
 "nbformat_minor": 2
}
